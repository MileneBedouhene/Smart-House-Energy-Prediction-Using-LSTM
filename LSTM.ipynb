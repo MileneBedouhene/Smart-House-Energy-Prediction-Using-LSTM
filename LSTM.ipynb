{
  "nbformat": 4,
  "nbformat_minor": 0,
  "metadata": {
    "colab": {
      "provenance": [],
      "gpuType": "T4",
      "authorship_tag": "ABX9TyObeLOgP+pSzwLhuZLFetJQ",
      "include_colab_link": true
    },
    "kernelspec": {
      "name": "python3",
      "display_name": "Python 3"
    },
    "language_info": {
      "name": "python"
    },
    "accelerator": "GPU"
  },
  "cells": [
    {
      "cell_type": "markdown",
      "metadata": {
        "id": "view-in-github",
        "colab_type": "text"
      },
      "source": [
        "<a href=\"https://colab.research.google.com/github/MileneBedouhene/Smart-House-Energy-Prediction-Using-LSTM/blob/main/LSTM.ipynb\" target=\"_parent\"><img src=\"https://colab.research.google.com/assets/colab-badge.svg\" alt=\"Open In Colab\"/></a>"
      ]
    },
    {
      "cell_type": "code",
      "execution_count": null,
      "metadata": {
        "id": "6E3WzukYq-q4"
      },
      "outputs": [],
      "source": [
        "import pandas as pd\n",
        "from sklearn.preprocessing import MinMaxScaler\n",
        "import numpy as np"
      ]
    },
    {
      "cell_type": "code",
      "source": [
        "data = pd.read_csv('train_energy.csv')\n",
        "data.head()"
      ],
      "metadata": {
        "id": "3mnCcX-ZrFfQ"
      },
      "execution_count": null,
      "outputs": []
    },
    {
      "cell_type": "code",
      "source": [
        "data['DateTime'] = pd.to_datetime(data['DateTime'])\n",
        "data.info()"
      ],
      "metadata": {
        "id": "OaMKwwuErZij"
      },
      "execution_count": null,
      "outputs": []
    },
    {
      "cell_type": "code",
      "source": [
        "data['Hour'] = data['DateTime'].dt.hour\n",
        "data['DayOfWeek'] = data['DateTime'].dt.dayofweek\n",
        "data['Month'] = data['DateTime'].dt.month\n",
        "data['IsWeekend'] = data['DayOfWeek'].apply(lambda x: 1 if x >= 5 else 0)\n",
        "data.info()"
      ],
      "metadata": {
        "id": "gsbHB1Otrbw8"
      },
      "execution_count": null,
      "outputs": []
    },
    {
      "cell_type": "code",
      "source": [
        "scaler = MinMaxScaler(feature_range=(0, 1))\n",
        "scaled_data = scaler.fit_transform(data[['EnergyConsumption(kWh)']])"
      ],
      "metadata": {
        "id": "PqBNpKjtrdyh"
      },
      "execution_count": null,
      "outputs": []
    },
    {
      "cell_type": "code",
      "source": [
        "print(scaled_data[:5])"
      ],
      "metadata": {
        "id": "lyEorq6_rgc4"
      },
      "execution_count": null,
      "outputs": []
    },
    {
      "cell_type": "code",
      "source": [
        "def create_sequences(data, sequence_length):\n",
        "    X, y = [], []\n",
        "    for i in range(len(data) - sequence_length):\n",
        "        X.append(data[i:i+sequence_length, 1:])\n",
        "        y.append(data[i+sequence_length, 0])\n",
        "    return np.array(X), np.array(y)\n"
      ],
      "metadata": {
        "id": "roc6uDj-ritr"
      },
      "execution_count": null,
      "outputs": []
    },
    {
      "cell_type": "code",
      "source": [
        "sequence_length = 24\n",
        "data_values = data[[ 'Hour', 'DayOfWeek', 'Month', 'IsWeekend']].values\n",
        "X, y = create_sequences(data_values, sequence_length)\n",
        "\n",
        "\n",
        "split_index = int(len(X) * 0.8)\n",
        "X_train, X_val = X[:split_index], X[split_index:]\n",
        "y_train, y_val = y[:split_index], y[split_index:]"
      ],
      "metadata": {
        "id": "B3V_blURrkbI"
      },
      "execution_count": null,
      "outputs": []
    },
    {
      "cell_type": "code",
      "source": [
        "from tensorflow.keras.models import Sequential\n",
        "from tensorflow.keras.layers import LSTM, Dense, Dropout"
      ],
      "metadata": {
        "id": "Lu9QjGRarmtK"
      },
      "execution_count": null,
      "outputs": []
    },
    {
      "cell_type": "code",
      "source": [
        "model = Sequential([\n",
        "    LSTM(64, return_sequences=True, input_shape=(X_train.shape[1], X_train.shape[2])),\n",
        "    Dropout(0.2),\n",
        "    LSTM(32, return_sequences=False),\n",
        "    Dropout(0.2),\n",
        "    Dense(1)\n",
        "])\n",
        "\n",
        "model.compile(optimizer='adam', loss='mean_squared_error')\n",
        "model.summary()\n"
      ],
      "metadata": {
        "id": "o9BSq09YroVw"
      },
      "execution_count": null,
      "outputs": []
    },
    {
      "cell_type": "code",
      "source": [
        "history = model.fit(\n",
        "    X_train, y_train,\n",
        "    epochs=50,\n",
        "    batch_size=32,\n",
        "    validation_data=(X_val, y_val),\n",
        "    shuffle=False  # IMPORTANT\n",
        ")\n"
      ],
      "metadata": {
        "id": "7BCG72dprqm2"
      },
      "execution_count": null,
      "outputs": []
    },
    {
      "cell_type": "code",
      "source": [
        "val_loss = model.evaluate(X_val, y_val)\n",
        "print(f\"Validation Loss: {val_loss}\")\n",
        "\n",
        "\n",
        "y_pred = model.predict(X_val)\n",
        "\n",
        "y_pred_rescaled = scaler.inverse_transform(y_pred)\n",
        "y_val_rescaled = scaler.inverse_transform(y_val.reshape(-1, 1))\n"
      ],
      "metadata": {
        "id": "gg112eVhsWL5"
      },
      "execution_count": null,
      "outputs": []
    },
    {
      "cell_type": "code",
      "source": [
        "import matplotlib.pyplot as plt\n",
        "\n",
        "plt.figure(figsize=(10, 6))\n",
        "plt.plot(y_val_rescaled, label='Vraies Valeurs')\n",
        "plt.plot(y_pred_rescaled, label='Prédictions')\n",
        "plt.legend()\n",
        "plt.show()\n"
      ],
      "metadata": {
        "id": "aJuUYSkDrsZ_"
      },
      "execution_count": null,
      "outputs": []
    },
    {
      "cell_type": "code",
      "source": [
        "model.save('lstm_energy_model.h5')"
      ],
      "metadata": {
        "id": "ZQIWdEL9rxvu"
      },
      "execution_count": null,
      "outputs": []
    },
    {
      "cell_type": "markdown",
      "source": [
        "# Test"
      ],
      "metadata": {
        "id": "relP6-X6r1dx"
      }
    },
    {
      "cell_type": "code",
      "source": [
        "test_data = pd.read_csv('test_energy.csv')\n",
        "test_data['DateTime'] = pd.to_datetime(test_data['DateTime'])"
      ],
      "metadata": {
        "id": "s3CoMgeLrzXB"
      },
      "execution_count": null,
      "outputs": []
    },
    {
      "cell_type": "code",
      "source": [
        "test_data['Hour'] = test_data['DateTime'].dt.hour\n",
        "test_data['DayOfWeek'] = test_data['DateTime'].dt.dayofweek\n",
        "test_data['Month'] = test_data['DateTime'].dt.month\n",
        "test_data['IsWeekend'] = test_data['DayOfWeek'].apply(lambda x: 1 if x >= 5 else 0)"
      ],
      "metadata": {
        "id": "Pq_4i7ZUr7lU"
      },
      "execution_count": null,
      "outputs": []
    },
    {
      "cell_type": "code",
      "source": [
        "test_data_values = test_data[['Hour', 'DayOfWeek', 'Month']].values"
      ],
      "metadata": {
        "id": "MxMvJd1kr8a5"
      },
      "execution_count": null,
      "outputs": []
    },
    {
      "cell_type": "code",
      "source": [
        "def create_test_sequences(data, sequence_length):\n",
        "    X = []\n",
        "    for i in range(len(data) - sequence_length):\n",
        "        X.append(data[i:i+sequence_length, :])\n",
        "    return np.array(X)\n",
        "\n",
        "\n",
        "sequence_length = 24\n",
        "X_test = create_test_sequences(test_data_values, sequence_length)"
      ],
      "metadata": {
        "id": "EKj6amqssCNw"
      },
      "execution_count": null,
      "outputs": []
    },
    {
      "cell_type": "code",
      "source": [
        "import tensorflow as tf\n",
        "from tensorflow.keras.models import load_model\n",
        "\n",
        "model = load_model('lstm_energy_model.h5')\n",
        "\n",
        "print(f\"Forme de X_test : {X_test.shape}\")\n",
        "\n",
        "y_test_pred = model.predict(X_test)\n",
        "\n",
        "\n",
        "y_test_pred_rescaled = y_test_pred\n",
        "\n",
        "predictions_df = pd.DataFrame({\n",
        "    'DateTime': test_data['DateTime'].iloc[sequence_length:].values,\n",
        "    'EnergyConsumption(kWh)': y_test_pred_rescaled.flatten()\n",
        "})\n",
        "\n",
        "print(predictions_df.head())\n",
        "\n",
        "predictions_df.to_csv('predictions.csv', index=False)"
      ],
      "metadata": {
        "id": "KSI4bJZ9sDOn"
      },
      "execution_count": null,
      "outputs": []
    },
    {
      "cell_type": "code",
      "source": [
        "predictions_df.to_csv('predictions.csv', index=False)"
      ],
      "metadata": {
        "id": "hvH59BHasFkB"
      },
      "execution_count": null,
      "outputs": []
    },
    {
      "cell_type": "code",
      "source": [
        "# Charger les données initiales à partir d'un fichier CSV\n",
        "input_file = \"predictions.csv\"\n",
        "df = pd.read_csv(input_file)\n",
        "\n",
        "# Générer les nouvelles lignes avec des DateTime et la moyenne des consommations\n",
        "new_rows = pd.DataFrame({\n",
        "    \"DateTime\": pd.date_range(\"2017-01-01 01:00:00\", \"2017-01-02 00:00:00\", freq=\"H\"),\n",
        "    \"EnergyConsumption(kWh)\": df[\"EnergyConsumption(kWh)\"].mean(),\n",
        "})\n",
        "\n",
        "# Combiner les nouvelles lignes avec le DataFrame existant\n",
        "df = pd.concat([new_rows, df], ignore_index=True)\n",
        "\n",
        "# Sauvegarder dans un fichier CSV\n",
        "output_file = \"energy_consumption_updated.csv\"\n",
        "df.to_csv(output_file, index=False)\n",
        "\n",
        "# Affichage du DataFrame mis à jour\n",
        "print(df)"
      ],
      "metadata": {
        "id": "V5L36GIiseEb"
      },
      "execution_count": null,
      "outputs": []
    },
    {
      "cell_type": "code",
      "source": [],
      "metadata": {
        "id": "ftvWy_d-t3Fb"
      },
      "execution_count": null,
      "outputs": []
    }
  ]
}